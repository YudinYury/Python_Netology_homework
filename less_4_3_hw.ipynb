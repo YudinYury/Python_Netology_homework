{
 "cells": [
  {
   "cell_type": "code",
   "execution_count": 1,
   "metadata": {
    "collapsed": true
   },
   "outputs": [],
   "source": [
    "import requests\n",
    "import pandas as pd\n",
    "import numpy as np\n",
    "import matplotlib.pyplot as plt\n",
    "%matplotlib inline\n",
    "from scipy.cluster.vq import whiten, kmeans2"
   ]
  },
  {
   "cell_type": "code",
   "execution_count": 2,
   "metadata": {
    "collapsed": true
   },
   "outputs": [],
   "source": [
    "def call_api(uri, result_key):\n",
    "    json = {}\n",
    "    try:\n",
    "        json = requests.get(uri, headers = { 'X-Auth-Token': 'c52b7825851b4357af3e06c1888152f0' }).json()\n",
    "        return json[result_key]\n",
    "    except:\n",
    "        print(json)\n",
    "        return None"
   ]
  },
  {
   "cell_type": "code",
   "execution_count": 3,
   "metadata": {},
   "outputs": [
    {
     "data": {
      "text/plain": [
       "[{'_links': {'fixtures': {'href': 'http://api.football-data.org/v1/teams/66/fixtures'},\n",
       "   'players': {'href': 'http://api.football-data.org/v1/teams/66/players'},\n",
       "   'self': {'href': 'http://api.football-data.org/v1/teams/66'}},\n",
       "  'code': 'MUFC',\n",
       "  'crestUrl': 'http://upload.wikimedia.org/wikipedia/de/d/da/Manchester_United_FC.svg',\n",
       "  'name': 'Manchester United FC',\n",
       "  'shortName': 'ManU',\n",
       "  'squadMarketValue': None},\n",
       " {'_links': {'fixtures': {'href': 'http://api.football-data.org/v1/teams/73/fixtures'},\n",
       "   'players': {'href': 'http://api.football-data.org/v1/teams/73/players'},\n",
       "   'self': {'href': 'http://api.football-data.org/v1/teams/73'}},\n",
       "  'code': 'THFC',\n",
       "  'crestUrl': 'http://upload.wikimedia.org/wikipedia/de/b/b4/Tottenham_Hotspur.svg',\n",
       "  'name': 'Tottenham Hotspur FC',\n",
       "  'shortName': 'Spurs',\n",
       "  'squadMarketValue': None},\n",
       " {'_links': {'fixtures': {'href': 'http://api.football-data.org/v1/teams/1044/fixtures'},\n",
       "   'players': {'href': 'http://api.football-data.org/v1/teams/1044/players'},\n",
       "   'self': {'href': 'http://api.football-data.org/v1/teams/1044'}},\n",
       "  'code': 'AFCB',\n",
       "  'crestUrl': 'https://upload.wikimedia.org/wikipedia/de/4/41/Afc_bournemouth.svg',\n",
       "  'name': 'AFC Bournemouth',\n",
       "  'shortName': 'Bournemouth',\n",
       "  'squadMarketValue': None},\n",
       " {'_links': {'fixtures': {'href': 'http://api.football-data.org/v1/teams/58/fixtures'},\n",
       "   'players': {'href': 'http://api.football-data.org/v1/teams/58/players'},\n",
       "   'self': {'href': 'http://api.football-data.org/v1/teams/58'}},\n",
       "  'code': 'AVFC',\n",
       "  'crestUrl': 'http://upload.wikimedia.org/wikipedia/de/9/9f/Aston_Villa_logo.svg',\n",
       "  'name': 'Aston Villa FC',\n",
       "  'shortName': 'Aston Villa',\n",
       "  'squadMarketValue': None},\n",
       " {'_links': {'fixtures': {'href': 'http://api.football-data.org/v1/teams/62/fixtures'},\n",
       "   'players': {'href': 'http://api.football-data.org/v1/teams/62/players'},\n",
       "   'self': {'href': 'http://api.football-data.org/v1/teams/62'}},\n",
       "  'code': 'EFC',\n",
       "  'crestUrl': 'http://upload.wikimedia.org/wikipedia/de/f/f9/Everton_FC.svg',\n",
       "  'name': 'Everton FC',\n",
       "  'shortName': 'Everton',\n",
       "  'squadMarketValue': None},\n",
       " {'_links': {'fixtures': {'href': 'http://api.football-data.org/v1/teams/346/fixtures'},\n",
       "   'players': {'href': 'http://api.football-data.org/v1/teams/346/players'},\n",
       "   'self': {'href': 'http://api.football-data.org/v1/teams/346'}},\n",
       "  'code': 'Watfordfc',\n",
       "  'crestUrl': 'https://upload.wikimedia.org/wikipedia/en/e/e2/Watford.svg',\n",
       "  'name': 'Watford FC',\n",
       "  'shortName': 'Watford',\n",
       "  'squadMarketValue': None},\n",
       " {'_links': {'fixtures': {'href': 'http://api.football-data.org/v1/teams/338/fixtures'},\n",
       "   'players': {'href': 'http://api.football-data.org/v1/teams/338/players'},\n",
       "   'self': {'href': 'http://api.football-data.org/v1/teams/338'}},\n",
       "  'code': 'LCFC',\n",
       "  'crestUrl': 'http://upload.wikimedia.org/wikipedia/en/6/63/Leicester02.png',\n",
       "  'name': 'Leicester City FC',\n",
       "  'shortName': 'Foxes',\n",
       "  'squadMarketValue': None},\n",
       " {'_links': {'fixtures': {'href': 'http://api.football-data.org/v1/teams/71/fixtures'},\n",
       "   'players': {'href': 'http://api.football-data.org/v1/teams/71/players'},\n",
       "   'self': {'href': 'http://api.football-data.org/v1/teams/71'}},\n",
       "  'code': 'SUN',\n",
       "  'crestUrl': 'http://upload.wikimedia.org/wikipedia/de/6/60/AFC_Sunderland.svg',\n",
       "  'name': 'Sunderland AFC',\n",
       "  'shortName': 'Sunderland',\n",
       "  'squadMarketValue': None},\n",
       " {'_links': {'fixtures': {'href': 'http://api.football-data.org/v1/teams/68/fixtures'},\n",
       "   'players': {'href': 'http://api.football-data.org/v1/teams/68/players'},\n",
       "   'self': {'href': 'http://api.football-data.org/v1/teams/68'}},\n",
       "  'code': 'NCFC',\n",
       "  'crestUrl': 'http://upload.wikimedia.org/wikipedia/de/8/8c/Norwich_City.svg',\n",
       "  'name': 'Norwich City FC',\n",
       "  'shortName': 'Norwich',\n",
       "  'squadMarketValue': None},\n",
       " {'_links': {'fixtures': {'href': 'http://api.football-data.org/v1/teams/354/fixtures'},\n",
       "   'players': {'href': 'http://api.football-data.org/v1/teams/354/players'},\n",
       "   'self': {'href': 'http://api.football-data.org/v1/teams/354'}},\n",
       "  'code': 'CRY',\n",
       "  'crestUrl': 'http://upload.wikimedia.org/wikipedia/de/b/bf/Crystal_Palace_F.C._logo_(2013).png',\n",
       "  'name': 'Crystal Palace FC',\n",
       "  'shortName': 'Crystal',\n",
       "  'squadMarketValue': None},\n",
       " {'_links': {'fixtures': {'href': 'http://api.football-data.org/v1/teams/61/fixtures'},\n",
       "   'players': {'href': 'http://api.football-data.org/v1/teams/61/players'},\n",
       "   'self': {'href': 'http://api.football-data.org/v1/teams/61'}},\n",
       "  'code': 'CFC',\n",
       "  'crestUrl': 'http://upload.wikimedia.org/wikipedia/de/5/5c/Chelsea_crest.svg',\n",
       "  'name': 'Chelsea FC',\n",
       "  'shortName': 'Chelsea',\n",
       "  'squadMarketValue': None},\n",
       " {'_links': {'fixtures': {'href': 'http://api.football-data.org/v1/teams/72/fixtures'},\n",
       "   'players': {'href': 'http://api.football-data.org/v1/teams/72/players'},\n",
       "   'self': {'href': 'http://api.football-data.org/v1/teams/72'}},\n",
       "  'code': 'SWA',\n",
       "  'crestUrl': 'http://upload.wikimedia.org/wikipedia/de/a/ab/Swansea_City_Logo.svg',\n",
       "  'name': 'Swansea City FC',\n",
       "  'shortName': 'Swans',\n",
       "  'squadMarketValue': None},\n",
       " {'_links': {'fixtures': {'href': 'http://api.football-data.org/v1/teams/67/fixtures'},\n",
       "   'players': {'href': 'http://api.football-data.org/v1/teams/67/players'},\n",
       "   'self': {'href': 'http://api.football-data.org/v1/teams/67'}},\n",
       "  'code': 'NUFC',\n",
       "  'crestUrl': 'http://upload.wikimedia.org/wikipedia/de/5/56/Newcastle_United_Logo.svg',\n",
       "  'name': 'Newcastle United FC',\n",
       "  'shortName': 'Newcastle',\n",
       "  'squadMarketValue': None},\n",
       " {'_links': {'fixtures': {'href': 'http://api.football-data.org/v1/teams/340/fixtures'},\n",
       "   'players': {'href': 'http://api.football-data.org/v1/teams/340/players'},\n",
       "   'self': {'href': 'http://api.football-data.org/v1/teams/340'}},\n",
       "  'code': 'SFC',\n",
       "  'crestUrl': 'http://upload.wikimedia.org/wikipedia/de/c/c9/FC_Southampton.svg',\n",
       "  'name': 'Southampton FC',\n",
       "  'shortName': 'Southampton',\n",
       "  'squadMarketValue': None},\n",
       " {'_links': {'fixtures': {'href': 'http://api.football-data.org/v1/teams/57/fixtures'},\n",
       "   'players': {'href': 'http://api.football-data.org/v1/teams/57/players'},\n",
       "   'self': {'href': 'http://api.football-data.org/v1/teams/57'}},\n",
       "  'code': 'AFC',\n",
       "  'crestUrl': 'http://upload.wikimedia.org/wikipedia/en/5/53/Arsenal_FC.svg',\n",
       "  'name': 'Arsenal FC',\n",
       "  'shortName': 'Arsenal',\n",
       "  'squadMarketValue': None},\n",
       " {'_links': {'fixtures': {'href': 'http://api.football-data.org/v1/teams/563/fixtures'},\n",
       "   'players': {'href': 'http://api.football-data.org/v1/teams/563/players'},\n",
       "   'self': {'href': 'http://api.football-data.org/v1/teams/563'}},\n",
       "  'code': 'WHU',\n",
       "  'crestUrl': 'http://upload.wikimedia.org/wikipedia/de/e/e0/West_Ham_United_FC.svg',\n",
       "  'name': 'West Ham United FC',\n",
       "  'shortName': 'West Ham',\n",
       "  'squadMarketValue': None},\n",
       " {'_links': {'fixtures': {'href': 'http://api.football-data.org/v1/teams/70/fixtures'},\n",
       "   'players': {'href': 'http://api.football-data.org/v1/teams/70/players'},\n",
       "   'self': {'href': 'http://api.football-data.org/v1/teams/70'}},\n",
       "  'code': 'SCFC',\n",
       "  'crestUrl': 'http://upload.wikimedia.org/wikipedia/de/a/a3/Stoke_City.svg',\n",
       "  'name': 'Stoke City FC',\n",
       "  'shortName': 'Stoke',\n",
       "  'squadMarketValue': None},\n",
       " {'_links': {'fixtures': {'href': 'http://api.football-data.org/v1/teams/64/fixtures'},\n",
       "   'players': {'href': 'http://api.football-data.org/v1/teams/64/players'},\n",
       "   'self': {'href': 'http://api.football-data.org/v1/teams/64'}},\n",
       "  'code': 'LFC',\n",
       "  'crestUrl': 'http://upload.wikimedia.org/wikipedia/de/0/0a/FC_Liverpool.svg',\n",
       "  'name': 'Liverpool FC',\n",
       "  'shortName': 'Liverpool',\n",
       "  'squadMarketValue': None},\n",
       " {'_links': {'fixtures': {'href': 'http://api.football-data.org/v1/teams/74/fixtures'},\n",
       "   'players': {'href': 'http://api.football-data.org/v1/teams/74/players'},\n",
       "   'self': {'href': 'http://api.football-data.org/v1/teams/74'}},\n",
       "  'code': 'WBA',\n",
       "  'crestUrl': 'http://upload.wikimedia.org/wikipedia/de/8/8b/West_Bromwich_Albion.svg',\n",
       "  'name': 'West Bromwich Albion FC',\n",
       "  'shortName': 'West Bromwich',\n",
       "  'squadMarketValue': None},\n",
       " {'_links': {'fixtures': {'href': 'http://api.football-data.org/v1/teams/65/fixtures'},\n",
       "   'players': {'href': 'http://api.football-data.org/v1/teams/65/players'},\n",
       "   'self': {'href': 'http://api.football-data.org/v1/teams/65'}},\n",
       "  'code': 'MCFC',\n",
       "  'crestUrl': 'https://upload.wikimedia.org/wikipedia/en/e/eb/Manchester_City_FC_badge.svg',\n",
       "  'name': 'Manchester City FC',\n",
       "  'shortName': 'ManCity',\n",
       "  'squadMarketValue': None}]"
      ]
     },
     "execution_count": 3,
     "metadata": {},
     "output_type": "execute_result"
    }
   ],
   "source": [
    "teams = call_api('http://api.football-data.org/v1/soccerseasons/398/teams', 'teams')\n",
    "teams"
   ]
  },
  {
   "cell_type": "code",
   "execution_count": 4,
   "metadata": {},
   "outputs": [
    {
     "ename": "NameError",
     "evalue": "name 'team' is not defined",
     "output_type": "error",
     "traceback": [
      "\u001b[1;31m---------------------------------------------------------------------------\u001b[0m",
      "\u001b[1;31mNameError\u001b[0m                                 Traceback (most recent call last)",
      "\u001b[1;32m<ipython-input-4-cdaac77cbb93>\u001b[0m in \u001b[0;36m<module>\u001b[1;34m()\u001b[0m\n\u001b[1;32m----> 1\u001b[1;33m \u001b[0mteam\u001b[0m\u001b[1;33m[\u001b[0m\u001b[1;36m0\u001b[0m\u001b[1;33m]\u001b[0m\u001b[1;33m\u001b[0m\u001b[0m\n\u001b[0m",
      "\u001b[1;31mNameError\u001b[0m: name 'team' is not defined"
     ]
    }
   ],
   "source": [
    "team[0]"
   ]
  },
  {
   "cell_type": "code",
   "execution_count": 5,
   "metadata": {},
   "outputs": [
    {
     "data": {
      "text/plain": [
       "{'_links': {'fixtures': {'href': 'http://api.football-data.org/v1/teams/66/fixtures'},\n",
       "  'players': {'href': 'http://api.football-data.org/v1/teams/66/players'},\n",
       "  'self': {'href': 'http://api.football-data.org/v1/teams/66'}},\n",
       " 'code': 'MUFC',\n",
       " 'crestUrl': 'http://upload.wikimedia.org/wikipedia/de/d/da/Manchester_United_FC.svg',\n",
       " 'name': 'Manchester United FC',\n",
       " 'shortName': 'ManU',\n",
       " 'squadMarketValue': None}"
      ]
     },
     "execution_count": 5,
     "metadata": {},
     "output_type": "execute_result"
    }
   ],
   "source": [
    "teams[0]"
   ]
  },
  {
   "cell_type": "code",
   "execution_count": 6,
   "metadata": {},
   "outputs": [
    {
     "data": {
      "text/plain": [
       "'Manchester United FC'"
      ]
     },
     "execution_count": 6,
     "metadata": {},
     "output_type": "execute_result"
    }
   ],
   "source": [
    "teams[0]['name']"
   ]
  },
  {
   "cell_type": "code",
   "execution_count": 7,
   "metadata": {},
   "outputs": [
    {
     "name": "stdout",
     "output_type": "stream",
     "text": [
      "Manchester United FC\n",
      "Tottenham Hotspur FC\n",
      "AFC Bournemouth\n",
      "Aston Villa FC\n",
      "Everton FC\n",
      "Watford FC\n",
      "Leicester City FC\n",
      "Sunderland AFC\n",
      "Norwich City FC\n",
      "Crystal Palace FC\n",
      "Chelsea FC\n",
      "Swansea City FC\n",
      "Newcastle United FC\n",
      "Southampton FC\n",
      "Arsenal FC\n",
      "West Ham United FC\n",
      "Stoke City FC\n",
      "Liverpool FC\n",
      "West Bromwich Albion FC\n",
      "Manchester City FC\n"
     ]
    }
   ],
   "source": [
    "for team in teams:\n",
    "    print(team['name'])"
   ]
  },
  {
   "cell_type": "code",
   "execution_count": 21,
   "metadata": {},
   "outputs": [
    {
     "data": {
      "text/plain": [
       "{'contractUntil': '2020-06-30',\n",
       " 'dateOfBirth': '1983-04-13',\n",
       " 'jerseyNumber': 1,\n",
       " 'marketValue': None,\n",
       " 'name': 'Claudio Bravo',\n",
       " 'nationality': 'Chile',\n",
       " 'position': 'Keeper'}"
      ]
     },
     "execution_count": 21,
     "metadata": {},
     "output_type": "execute_result"
    }
   ],
   "source": [
    "players = call_api(team['_links']['players']['href'], 'players')\n",
    "players[0]"
   ]
  },
  {
   "cell_type": "code",
   "execution_count": 22,
   "metadata": {},
   "outputs": [
    {
     "name": "stdout",
     "output_type": "stream",
     "text": [
      "Claudio Bravo None\n",
      "Angus Gunn None\n",
      "John Stones None\n",
      "Nicolás Otamendi None\n",
      "Vincent Kompany None\n",
      "Aleksandar Kolarov None\n",
      "Gaël Clichy None\n",
      "Bacary Sagna None\n",
      "Fernando None\n",
      "Aleix García None\n",
      "Ilkay Gündogan None\n",
      "Fernandinho None\n",
      "Yaya Touré None\n",
      "Fabian Delph None\n",
      "Kevin De Bruyne None\n",
      "David Silva None\n",
      "Raheem Sterling None\n",
      "Nolito None\n",
      "Jesús Navas None\n",
      "Sergio Agüero None\n",
      "Gabriel Jesus None\n"
     ]
    }
   ],
   "source": [
    "for player in players:\n",
    "    print(player['name'], player['marketValue'])"
   ]
  },
  {
   "cell_type": "code",
   "execution_count": 35,
   "metadata": {
    "scrolled": false
   },
   "outputs": [
    {
     "data": {
      "text/plain": [
       "{'_links': {'team': {'href': 'http://api.football-data.org/v1/teams/338'}},\n",
       " 'away': {'draws': 6,\n",
       "  'goals': 33,\n",
       "  'goalsAgainst': 18,\n",
       "  'losses': 2,\n",
       "  'wins': 11},\n",
       " 'crestURI': 'http://upload.wikimedia.org/wikipedia/en/6/63/Leicester02.png',\n",
       " 'draws': 12,\n",
       " 'goalDifference': 32,\n",
       " 'goals': 68,\n",
       " 'goalsAgainst': 36,\n",
       " 'home': {'draws': 6,\n",
       "  'goals': 35,\n",
       "  'goalsAgainst': 18,\n",
       "  'losses': 1,\n",
       "  'wins': 12},\n",
       " 'losses': 3,\n",
       " 'playedGames': 38,\n",
       " 'points': 81,\n",
       " 'position': 1,\n",
       " 'teamName': 'Leicester City FC',\n",
       " 'wins': 23}"
      ]
     },
     "execution_count": 35,
     "metadata": {},
     "output_type": "execute_result"
    }
   ],
   "source": [
    "league_table = call_api('http://api.football-data.org/v1/competitions/398/leagueTable', 'standing')\n",
    "league_table[0]\n"
   ]
  },
  {
   "cell_type": "code",
   "execution_count": 41,
   "metadata": {},
   "outputs": [
    {
     "name": "stdout",
     "output_type": "stream",
     "text": [
      "position 1 ... 81 points ... Leicester City FC ... 68 goals\n",
      "position 2 ... 71 points ... Arsenal FC ... 65 goals\n",
      "position 3 ... 70 points ... Tottenham Hotspur FC ... 69 goals\n",
      "position 4 ... 66 points ... Manchester City FC ... 71 goals\n",
      "position 5 ... 66 points ... Manchester United FC ... 49 goals\n",
      "position 6 ... 63 points ... Southampton FC ... 59 goals\n",
      "position 7 ... 62 points ... West Ham United FC ... 65 goals\n",
      "position 8 ... 60 points ... Liverpool FC ... 63 goals\n",
      "position 9 ... 51 points ... Stoke City FC ... 41 goals\n",
      "position 10 ... 50 points ... Chelsea FC ... 59 goals\n",
      "position 11 ... 47 points ... Everton FC ... 59 goals\n",
      "position 12 ... 47 points ... Swansea City FC ... 42 goals\n",
      "position 13 ... 45 points ... Watford FC ... 40 goals\n",
      "position 14 ... 43 points ... West Bromwich Albion FC ... 34 goals\n",
      "position 15 ... 42 points ... Crystal Palace FC ... 39 goals\n",
      "position 16 ... 42 points ... AFC Bournemouth ... 45 goals\n",
      "position 17 ... 39 points ... Sunderland AFC ... 48 goals\n",
      "position 18 ... 37 points ... Newcastle United FC ... 44 goals\n",
      "position 19 ... 34 points ... Norwich City FC ... 39 goals\n",
      "position 20 ... 17 points ... Aston Villa FC ... 27 goals\n"
     ]
    }
   ],
   "source": [
    "for team in league_table:\n",
    "    print('position {} ... {} points ... {} ... {} goals'.format(team['position'], team['points'],team['teamName'], team['goals']))\n"
   ]
  },
  {
   "cell_type": "code",
   "execution_count": 63,
   "metadata": {},
   "outputs": [
    {
     "data": {
      "text/plain": [
       "[{'goals': 68, 'name': 'Leicester City FC', 'points': 81},\n",
       " {'goals': 65, 'name': 'Arsenal FC', 'points': 71},\n",
       " {'goals': 69, 'name': 'Tottenham Hotspur FC', 'points': 70},\n",
       " {'goals': 71, 'name': 'Manchester City FC', 'points': 66},\n",
       " {'goals': 49, 'name': 'Manchester United FC', 'points': 66},\n",
       " {'goals': 59, 'name': 'Southampton FC', 'points': 63},\n",
       " {'goals': 65, 'name': 'West Ham United FC', 'points': 62},\n",
       " {'goals': 63, 'name': 'Liverpool FC', 'points': 60},\n",
       " {'goals': 41, 'name': 'Stoke City FC', 'points': 51},\n",
       " {'goals': 59, 'name': 'Chelsea FC', 'points': 50},\n",
       " {'goals': 59, 'name': 'Everton FC', 'points': 47},\n",
       " {'goals': 42, 'name': 'Swansea City FC', 'points': 47},\n",
       " {'goals': 40, 'name': 'Watford FC', 'points': 45},\n",
       " {'goals': 34, 'name': 'West Bromwich Albion FC', 'points': 43},\n",
       " {'goals': 39, 'name': 'Crystal Palace FC', 'points': 42},\n",
       " {'goals': 45, 'name': 'AFC Bournemouth', 'points': 42},\n",
       " {'goals': 48, 'name': 'Sunderland AFC', 'points': 39},\n",
       " {'goals': 44, 'name': 'Newcastle United FC', 'points': 37},\n",
       " {'goals': 39, 'name': 'Norwich City FC', 'points': 34},\n",
       " {'goals': 27, 'name': 'Aston Villa FC', 'points': 17}]"
      ]
     },
     "execution_count": 63,
     "metadata": {},
     "output_type": "execute_result"
    }
   ],
   "source": [
    "table_for_k_means = []\n",
    "for team in league_table:\n",
    "    table_for_k_means.append({'name': team['teamName'], 'points': team['points'], 'goals': team['goals']})\n",
    "table_for_k_means"
   ]
  },
  {
   "cell_type": "code",
   "execution_count": 64,
   "metadata": {},
   "outputs": [
    {
     "data": {
      "text/html": [
       "<div>\n",
       "<style>\n",
       "    .dataframe thead tr:only-child th {\n",
       "        text-align: right;\n",
       "    }\n",
       "\n",
       "    .dataframe thead th {\n",
       "        text-align: left;\n",
       "    }\n",
       "\n",
       "    .dataframe tbody tr th {\n",
       "        vertical-align: top;\n",
       "    }\n",
       "</style>\n",
       "<table border=\"1\" class=\"dataframe\">\n",
       "  <thead>\n",
       "    <tr style=\"text-align: right;\">\n",
       "      <th></th>\n",
       "      <th>goals</th>\n",
       "      <th>name</th>\n",
       "      <th>points</th>\n",
       "    </tr>\n",
       "  </thead>\n",
       "  <tbody>\n",
       "    <tr>\n",
       "      <th>0</th>\n",
       "      <td>68</td>\n",
       "      <td>Leicester City FC</td>\n",
       "      <td>81</td>\n",
       "    </tr>\n",
       "    <tr>\n",
       "      <th>1</th>\n",
       "      <td>65</td>\n",
       "      <td>Arsenal FC</td>\n",
       "      <td>71</td>\n",
       "    </tr>\n",
       "    <tr>\n",
       "      <th>2</th>\n",
       "      <td>69</td>\n",
       "      <td>Tottenham Hotspur FC</td>\n",
       "      <td>70</td>\n",
       "    </tr>\n",
       "    <tr>\n",
       "      <th>3</th>\n",
       "      <td>71</td>\n",
       "      <td>Manchester City FC</td>\n",
       "      <td>66</td>\n",
       "    </tr>\n",
       "    <tr>\n",
       "      <th>4</th>\n",
       "      <td>49</td>\n",
       "      <td>Manchester United FC</td>\n",
       "      <td>66</td>\n",
       "    </tr>\n",
       "    <tr>\n",
       "      <th>5</th>\n",
       "      <td>59</td>\n",
       "      <td>Southampton FC</td>\n",
       "      <td>63</td>\n",
       "    </tr>\n",
       "    <tr>\n",
       "      <th>6</th>\n",
       "      <td>65</td>\n",
       "      <td>West Ham United FC</td>\n",
       "      <td>62</td>\n",
       "    </tr>\n",
       "    <tr>\n",
       "      <th>7</th>\n",
       "      <td>63</td>\n",
       "      <td>Liverpool FC</td>\n",
       "      <td>60</td>\n",
       "    </tr>\n",
       "    <tr>\n",
       "      <th>8</th>\n",
       "      <td>41</td>\n",
       "      <td>Stoke City FC</td>\n",
       "      <td>51</td>\n",
       "    </tr>\n",
       "    <tr>\n",
       "      <th>9</th>\n",
       "      <td>59</td>\n",
       "      <td>Chelsea FC</td>\n",
       "      <td>50</td>\n",
       "    </tr>\n",
       "    <tr>\n",
       "      <th>10</th>\n",
       "      <td>59</td>\n",
       "      <td>Everton FC</td>\n",
       "      <td>47</td>\n",
       "    </tr>\n",
       "    <tr>\n",
       "      <th>11</th>\n",
       "      <td>42</td>\n",
       "      <td>Swansea City FC</td>\n",
       "      <td>47</td>\n",
       "    </tr>\n",
       "    <tr>\n",
       "      <th>12</th>\n",
       "      <td>40</td>\n",
       "      <td>Watford FC</td>\n",
       "      <td>45</td>\n",
       "    </tr>\n",
       "    <tr>\n",
       "      <th>13</th>\n",
       "      <td>34</td>\n",
       "      <td>West Bromwich Albion FC</td>\n",
       "      <td>43</td>\n",
       "    </tr>\n",
       "    <tr>\n",
       "      <th>14</th>\n",
       "      <td>39</td>\n",
       "      <td>Crystal Palace FC</td>\n",
       "      <td>42</td>\n",
       "    </tr>\n",
       "    <tr>\n",
       "      <th>15</th>\n",
       "      <td>45</td>\n",
       "      <td>AFC Bournemouth</td>\n",
       "      <td>42</td>\n",
       "    </tr>\n",
       "    <tr>\n",
       "      <th>16</th>\n",
       "      <td>48</td>\n",
       "      <td>Sunderland AFC</td>\n",
       "      <td>39</td>\n",
       "    </tr>\n",
       "    <tr>\n",
       "      <th>17</th>\n",
       "      <td>44</td>\n",
       "      <td>Newcastle United FC</td>\n",
       "      <td>37</td>\n",
       "    </tr>\n",
       "    <tr>\n",
       "      <th>18</th>\n",
       "      <td>39</td>\n",
       "      <td>Norwich City FC</td>\n",
       "      <td>34</td>\n",
       "    </tr>\n",
       "    <tr>\n",
       "      <th>19</th>\n",
       "      <td>27</td>\n",
       "      <td>Aston Villa FC</td>\n",
       "      <td>17</td>\n",
       "    </tr>\n",
       "  </tbody>\n",
       "</table>\n",
       "</div>"
      ],
      "text/plain": [
       "    goals                     name  points\n",
       "0      68        Leicester City FC      81\n",
       "1      65               Arsenal FC      71\n",
       "2      69     Tottenham Hotspur FC      70\n",
       "3      71       Manchester City FC      66\n",
       "4      49     Manchester United FC      66\n",
       "5      59           Southampton FC      63\n",
       "6      65       West Ham United FC      62\n",
       "7      63             Liverpool FC      60\n",
       "8      41            Stoke City FC      51\n",
       "9      59               Chelsea FC      50\n",
       "10     59               Everton FC      47\n",
       "11     42          Swansea City FC      47\n",
       "12     40               Watford FC      45\n",
       "13     34  West Bromwich Albion FC      43\n",
       "14     39        Crystal Palace FC      42\n",
       "15     45          AFC Bournemouth      42\n",
       "16     48           Sunderland AFC      39\n",
       "17     44      Newcastle United FC      37\n",
       "18     39          Norwich City FC      34\n",
       "19     27           Aston Villa FC      17"
      ]
     },
     "execution_count": 64,
     "metadata": {},
     "output_type": "execute_result"
    }
   ],
   "source": [
    "teams_for_k_means = pd.DataFrame(table_for_k_means)\n",
    "teams_for_k_means"
   ]
  },
  {
   "cell_type": "code",
   "execution_count": 65,
   "metadata": {},
   "outputs": [
    {
     "data": {
      "text/html": [
       "<div>\n",
       "<style>\n",
       "    .dataframe thead tr:only-child th {\n",
       "        text-align: right;\n",
       "    }\n",
       "\n",
       "    .dataframe thead th {\n",
       "        text-align: left;\n",
       "    }\n",
       "\n",
       "    .dataframe tbody tr th {\n",
       "        vertical-align: top;\n",
       "    }\n",
       "</style>\n",
       "<table border=\"1\" class=\"dataframe\">\n",
       "  <thead>\n",
       "    <tr style=\"text-align: right;\">\n",
       "      <th></th>\n",
       "      <th>goals</th>\n",
       "      <th>points</th>\n",
       "    </tr>\n",
       "  </thead>\n",
       "  <tbody>\n",
       "    <tr>\n",
       "      <th>0</th>\n",
       "      <td>68</td>\n",
       "      <td>81</td>\n",
       "    </tr>\n",
       "    <tr>\n",
       "      <th>1</th>\n",
       "      <td>65</td>\n",
       "      <td>71</td>\n",
       "    </tr>\n",
       "    <tr>\n",
       "      <th>2</th>\n",
       "      <td>69</td>\n",
       "      <td>70</td>\n",
       "    </tr>\n",
       "    <tr>\n",
       "      <th>3</th>\n",
       "      <td>71</td>\n",
       "      <td>66</td>\n",
       "    </tr>\n",
       "    <tr>\n",
       "      <th>4</th>\n",
       "      <td>49</td>\n",
       "      <td>66</td>\n",
       "    </tr>\n",
       "    <tr>\n",
       "      <th>5</th>\n",
       "      <td>59</td>\n",
       "      <td>63</td>\n",
       "    </tr>\n",
       "    <tr>\n",
       "      <th>6</th>\n",
       "      <td>65</td>\n",
       "      <td>62</td>\n",
       "    </tr>\n",
       "    <tr>\n",
       "      <th>7</th>\n",
       "      <td>63</td>\n",
       "      <td>60</td>\n",
       "    </tr>\n",
       "    <tr>\n",
       "      <th>8</th>\n",
       "      <td>41</td>\n",
       "      <td>51</td>\n",
       "    </tr>\n",
       "    <tr>\n",
       "      <th>9</th>\n",
       "      <td>59</td>\n",
       "      <td>50</td>\n",
       "    </tr>\n",
       "    <tr>\n",
       "      <th>10</th>\n",
       "      <td>59</td>\n",
       "      <td>47</td>\n",
       "    </tr>\n",
       "    <tr>\n",
       "      <th>11</th>\n",
       "      <td>42</td>\n",
       "      <td>47</td>\n",
       "    </tr>\n",
       "    <tr>\n",
       "      <th>12</th>\n",
       "      <td>40</td>\n",
       "      <td>45</td>\n",
       "    </tr>\n",
       "    <tr>\n",
       "      <th>13</th>\n",
       "      <td>34</td>\n",
       "      <td>43</td>\n",
       "    </tr>\n",
       "    <tr>\n",
       "      <th>14</th>\n",
       "      <td>39</td>\n",
       "      <td>42</td>\n",
       "    </tr>\n",
       "    <tr>\n",
       "      <th>15</th>\n",
       "      <td>45</td>\n",
       "      <td>42</td>\n",
       "    </tr>\n",
       "    <tr>\n",
       "      <th>16</th>\n",
       "      <td>48</td>\n",
       "      <td>39</td>\n",
       "    </tr>\n",
       "    <tr>\n",
       "      <th>17</th>\n",
       "      <td>44</td>\n",
       "      <td>37</td>\n",
       "    </tr>\n",
       "    <tr>\n",
       "      <th>18</th>\n",
       "      <td>39</td>\n",
       "      <td>34</td>\n",
       "    </tr>\n",
       "    <tr>\n",
       "      <th>19</th>\n",
       "      <td>27</td>\n",
       "      <td>17</td>\n",
       "    </tr>\n",
       "  </tbody>\n",
       "</table>\n",
       "</div>"
      ],
      "text/plain": [
       "    goals  points\n",
       "0      68      81\n",
       "1      65      71\n",
       "2      69      70\n",
       "3      71      66\n",
       "4      49      66\n",
       "5      59      63\n",
       "6      65      62\n",
       "7      63      60\n",
       "8      41      51\n",
       "9      59      50\n",
       "10     59      47\n",
       "11     42      47\n",
       "12     40      45\n",
       "13     34      43\n",
       "14     39      42\n",
       "15     45      42\n",
       "16     48      39\n",
       "17     44      37\n",
       "18     39      34\n",
       "19     27      17"
      ]
     },
     "execution_count": 65,
     "metadata": {},
     "output_type": "execute_result"
    }
   ],
   "source": [
    "del teams_for_k_means['name']\n",
    "teams_for_k_means\n"
   ]
  },
  {
   "cell_type": "code",
   "execution_count": 71,
   "metadata": {},
   "outputs": [
    {
     "data": {
      "text/plain": [
       "<matplotlib.axes._subplots.AxesSubplot at 0xb6f14b1160>"
      ]
     },
     "execution_count": 71,
     "metadata": {},
     "output_type": "execute_result"
    },
    {
     "data": {
      "image/png": "[encoded data removed]",
      "text/plain": [
       "<matplotlib.figure.Figure at 0xb6f59be4e0>"
      ]
     },
     "metadata": {},
     "output_type": "display_data"
    }
   ],
   "source": [
    "table_whitened = whiten(teams_for_k_means.as_matrix())\n",
    "centroids, cluster_map = kmeans2(table_whitened, 3)\n",
    "colors_map = {0: 'r', 1: 'g', 2: 'b', 3: 'y', 4: 'm'}\n",
    "colors = [colors_map[c] for c in cluster_map]\n",
    "teams_for_k_means.plot.scatter(x='goals', y='points', c=colors, s=100)"
   ]
  },
  {
   "cell_type": "code",
   "execution_count": 72,
   "metadata": {},
   "outputs": [
    {
     "data": {
      "text/plain": [
       "<matplotlib.axes._subplots.AxesSubplot at 0xb6f15d0518>"
      ]
     },
     "execution_count": 72,
     "metadata": {},
     "output_type": "execute_result"
    },
    {
     "data": {
      "image/png": "[encoded data removed]",
      "text/plain": [
       "<matplotlib.figure.Figure at 0xb6f59f4278>"
      ]
     },
     "metadata": {},
     "output_type": "display_data"
    }
   ],
   "source": [
    "table_whitened = whiten(teams_for_k_means.as_matrix())\n",
    "centroids, cluster_map = kmeans2(table_whitened, 5)\n",
    "colors_map = {0: 'r', 1: 'g', 2: 'b', 3: 'y', 4: 'm', 5: 'c'}\n",
    "colors = [colors_map[c] for c in cluster_map]\n",
    "teams_for_k_means.plot.scatter(x='goals', y='points', c=colors, s=100)"
   ]
  },
  {
   "cell_type": "code",
   "execution_count": null,
   "metadata": {
    "collapsed": true
   },
   "outputs": [],
   "source": []
  },
  {
   "cell_type": "code",
   "execution_count": null,
   "metadata": {
    "collapsed": true
   },
   "outputs": [],
   "source": []
  },
  {
   "cell_type": "code",
   "execution_count": null,
   "metadata": {
    "collapsed": true
   },
   "outputs": [],
   "source": []
  },
  {
   "cell_type": "code",
   "execution_count": null,
   "metadata": {
    "collapsed": true
   },
   "outputs": [],
   "source": []
  }
 ],
 "metadata": {
  "kernelspec": {
   "display_name": "Python 3",
   "language": "python",
   "name": "python3"
  },
  "language_info": {
   "codemirror_mode": {
    "name": "ipython",
    "version": 3
   },
   "file_extension": ".py",
   "mimetype": "text/x-python",
   "name": "python",
   "nbconvert_exporter": "python",
   "pygments_lexer": "ipython3",
   "version": "3.6.1"
  }
 },
 "nbformat": 4,
 "nbformat_minor": 2
}
