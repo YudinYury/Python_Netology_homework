{
 "cells": [
  {
   "cell_type": "code",
   "execution_count": 7,
   "metadata": {},
   "outputs": [
    {
     "name": "stdout",
     "output_type": "stream",
     "text": [
      "\n"
     ]
    },
    {
     "data": {
      "text/plain": [
       "<matplotlib.axes._subplots.AxesSubplot at 0x1babe0aac8>"
      ]
     },
     "execution_count": 7,
     "metadata": {},
     "output_type": "execute_result"
    }
   ],
   "source": [
    "import os\n",
    "import pandas as pd\n",
    "\n",
    "\n",
    "source_path = 'D:\\Python_my\\Python_Netology_homework\\data_names'\n",
    "source_dir_path = os.path.normpath(os.path.abspath(source_path))\n",
    "\n",
    "\n",
    "def download_year_data(year):\n",
    "    y = year\n",
    "    source_file = os.path.normpath(os.path.join(source_dir_path, 'yob{}.txt'.format(year)))\n",
    "    year_data = pd.read_csv(source_file, names=['Name', 'Gender', 'Count'])\n",
    "    # year_data['Year'] = year_data.apply(lambda x: int(year), axis=1)\n",
    "    year_data = year_data.drop(['Gender'], axis=1)\n",
    "    # print(year_data.query('Name == \"Ruth\" | Name == \"Robert\"').groupby('Name').sum())\n",
    "    return year_data.query('Name == [\"Ruth\", \"Robert\"]').groupby('Name').sum()\n",
    "\n",
    "names = []\n",
    "names_dict = {}\n",
    "ruth_n_robert_all_time = {}\n",
    "for i in range(1900, 1904):\n",
    "    names_dict[i] = download_year_data(i)\n",
    "\n",
    "ruth_n_robert_all_time = pd.concat(names_dict, names=['Year'])\n",
    "# print(ruth_n_robert_all_time)\n",
    "print()\n",
    "# print(ruth_n_robert_all_time.unstack('Name'))\n",
    "\n"
   ]
  },
  {
   "cell_type": "code",
   "execution_count": 8,
   "metadata": {},
   "outputs": [
    {
     "data": {
      "text/html": [
       "<div>\n",
       "<style>\n",
       "    .dataframe thead tr:only-child th {\n",
       "        text-align: right;\n",
       "    }\n",
       "\n",
       "    .dataframe thead th {\n",
       "        text-align: left;\n",
       "    }\n",
       "\n",
       "    .dataframe tbody tr th {\n",
       "        vertical-align: top;\n",
       "    }\n",
       "</style>\n",
       "<table border=\"1\" class=\"dataframe\">\n",
       "  <thead>\n",
       "    <tr>\n",
       "      <th></th>\n",
       "      <th colspan=\"2\" halign=\"left\">Count</th>\n",
       "    </tr>\n",
       "    <tr>\n",
       "      <th>Name</th>\n",
       "      <th>Robert</th>\n",
       "      <th>Ruth</th>\n",
       "    </tr>\n",
       "    <tr>\n",
       "      <th>Year</th>\n",
       "      <th></th>\n",
       "      <th></th>\n",
       "    </tr>\n",
       "  </thead>\n",
       "  <tbody>\n",
       "    <tr>\n",
       "      <th>1900</th>\n",
       "      <td>3845</td>\n",
       "      <td>4781</td>\n",
       "    </tr>\n",
       "    <tr>\n",
       "      <th>1901</th>\n",
       "      <td>2559</td>\n",
       "      <td>3989</td>\n",
       "    </tr>\n",
       "    <tr>\n",
       "      <th>1902</th>\n",
       "      <td>3201</td>\n",
       "      <td>4401</td>\n",
       "    </tr>\n",
       "    <tr>\n",
       "      <th>1903</th>\n",
       "      <td>3057</td>\n",
       "      <td>4531</td>\n",
       "    </tr>\n",
       "  </tbody>\n",
       "</table>\n",
       "</div>"
      ],
      "text/plain": [
       "      Count      \n",
       "Name Robert  Ruth\n",
       "Year             \n",
       "1900   3845  4781\n",
       "1901   2559  3989\n",
       "1902   3201  4401\n",
       "1903   3057  4531"
      ]
     },
     "execution_count": 8,
     "metadata": {},
     "output_type": "execute_result"
    }
   ],
   "source": [
    "ruth_n_robert_dynamics = ruth_n_robert_all_time.unstack('Name')\n",
    "ruth_n_robert_dynamics"
   ]
  },
  {
   "cell_type": "code",
   "execution_count": 9,
   "metadata": {},
   "outputs": [
    {
     "data": {
      "text/plain": [
       "<matplotlib.axes._subplots.AxesSubplot at 0x1ba66ca588>"
      ]
     },
     "execution_count": 9,
     "metadata": {},
     "output_type": "execute_result"
    }
   ],
   "source": [
    "ruth_n_robert_dynamics.plot(title='Ruth vs Robert', grid=True)"
   ]
  },
  {
   "cell_type": "code",
   "execution_count": 10,
   "metadata": {},
   "outputs": [
    {
     "data": {
      "text/plain": [
       "<matplotlib.axes._subplots.AxesSubplot at 0x1babe4cef0>"
      ]
     },
     "execution_count": 10,
     "metadata": {},
     "output_type": "execute_result"
    }
   ],
   "source": [
    "ruth_n_robert_dynamics.plot.bar()"
   ]
  },
  {
   "cell_type": "code",
   "execution_count": null,
   "metadata": {
    "collapsed": true
   },
   "outputs": [],
   "source": []
  }
 ],
 "metadata": {
  "kernelspec": {
   "display_name": "Python 3",
   "language": "python",
   "name": "python3"
  },
  "language_info": {
   "codemirror_mode": {
    "name": "ipython",
    "version": 3
   },
   "file_extension": ".py",
   "mimetype": "text/x-python",
   "name": "python",
   "nbconvert_exporter": "python",
   "pygments_lexer": "ipython3",
   "version": "3.6.1"
  }
 },
 "nbformat": 4,
 "nbformat_minor": 2
}
